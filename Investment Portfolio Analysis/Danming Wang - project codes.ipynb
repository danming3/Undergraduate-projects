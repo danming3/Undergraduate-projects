{
 "cells": [
  {
   "cell_type": "markdown",
   "metadata": {},
   "source": [
    "# A Numerical Analysis Project of Developing The Optimal Investment Portfolio\n",
    "Danming Wang (5833587), Xing Su (4502266), Xilin Huang (5562194), Zhixin Liu (7445224), Li Guo (7593601), Wenrui Wang(5813373)"
   ]
  },
  {
   "cell_type": "code",
   "execution_count": 24,
   "metadata": {},
   "outputs": [],
   "source": [
    "import math\n",
    "from sympy import *\n",
    "#create a \"symbol\" called al (alpha)\n",
    "al = Symbol('al')\n",
    "from numpy import log as ln\n",
    "from tabulate import tabulate\n",
    "from fractions import Fraction\n",
    "from sympy.plotting import plot"
   ]
  },
  {
   "cell_type": "code",
   "execution_count": 25,
   "metadata": {},
   "outputs": [],
   "source": [
    "def upExpr(u1,u2):\n",
    "    # Expected return mu_p expressed in terms of alpha\n",
    "    w1=al\n",
    "    w2=1-al\n",
    "    up=w1*u1+w2*u2\n",
    "    return up\n",
    "    \n",
    "def varPExpr(var1, var2,cov):\n",
    "    # Expected variance expressed in terms of alpha\n",
    "    w1=al\n",
    "    w2=1-al\n",
    "    varP=pow(w1,2)*var1+2*w1*w2*cov+pow(w2,2)*var2\n",
    "    return varP\n",
    "\n",
    "def Bisection(start, end, f,x):\n",
    "    # x is the notation of the variable\n",
    "    f=lambdify(x,f)\n",
    "    a=start\n",
    "    b=end\n",
    "    for i in list(range(0,3)):\n",
    "        p=Fraction((a+b)/2)\n",
    "        fa= f(a)\n",
    "        fb= f(b)\n",
    "        fp= f(p)\n",
    "        if fp==0:\n",
    "            return p\n",
    "        elif (fp * fa)>0:\n",
    "            a=p\n",
    "        elif (fp * fa)<0:\n",
    "            b=p\n",
    "    return p\n",
    "\n",
    "def Newton(p0,pN,tol,f,x):\n",
    "    df=f.diff(x)\n",
    "    f = lambdify(x, f)\n",
    "    df = lambdify(x, df)\n",
    "    p=Fraction(p0-Fraction(Fraction(f(p0))/Fraction(df(p0))))\n",
    "    i=1\n",
    "    while abs(p-p0)>=tol:\n",
    "        if(p>pN):\n",
    "            return pN\n",
    "        p0=p\n",
    "        p=Fraction(Fraction(p)-Fraction(Fraction(f(p))/Fraction(df(p))))\n",
    "        i+=1\n",
    "    p=float(p)\n",
    "    return p"
   ]
  },
  {
   "cell_type": "markdown",
   "metadata": {},
   "source": [
    "#### 1(a)"
   ]
  },
  {
   "cell_type": "code",
   "execution_count": 49,
   "metadata": {},
   "outputs": [
    {
     "name": "stdout",
     "output_type": "stream",
     "text": [
      "alpha = 0.16666666666666669\n"
     ]
    }
   ],
   "source": [
    "u1=0.03\n",
    "u2=0.09\n",
    "up1=0.08\n",
    "f1a=upExpr(u1,u2)-Fraction(up1)\n",
    "p01a=Bisection(0,1,f1a,al)\n",
    "alpha1a=Newton(p01a,1,pow(10,-10),f1a,al)\n",
    "print(\"alpha =\",alpha1a)"
   ]
  },
  {
   "cell_type": "markdown",
   "metadata": {},
   "source": [
    "When $\\mu_p=0.08$, $\\alpha=0.16666666$, $w_1=\\alpha=0.16666666,\\ w_2=1-\\alpha=0.83333333$."
   ]
  },
  {
   "cell_type": "code",
   "execution_count": 56,
   "metadata": {},
   "outputs": [
    {
     "name": "stdout",
     "output_type": "stream",
     "text": [
      "0.10666666666666665 0.326598632371090\n"
     ]
    }
   ],
   "source": [
    "cov1=-0.02\n",
    "sig1=0.2 #sd1\n",
    "sig2=0.4 #sd2\n",
    "fvarP1=varPExpr(pow(sig1,2),pow(sig2,2),cov1)\n",
    "varP1=lambdify(al,fvarP1)\n",
    "varp1=varP1(alpha1a)\n",
    "sdp1=sqrt(varp1)\n",
    "print(varp1,sdp1)"
   ]
  },
  {
   "cell_type": "markdown",
   "metadata": {},
   "source": [
    "The variance $\\sigma_p^2$ of the portfolio is $0.10666666$. The standard deviation is $0.3265986$."
   ]
  },
  {
   "cell_type": "code",
   "execution_count": 51,
   "metadata": {},
   "outputs": [],
   "source": [
    "t=Symbol('t')\n",
    "def V1(w,up,sdp):\n",
    "    V1t=w*pow(math.e,up*t-sdp*sqrt(t))\n",
    "    return V1t\n",
    "\n",
    "def V2(w,up,sdp):\n",
    "    V2t=w*pow(math.e,up*t+sdp*sqrt(t))\n",
    "    return V2t\n",
    "\n",
    "def plotV(v1t,v2t):\n",
    "    p1=plot(v1t,(t,0,1),show=False)\n",
    "    p2=plot(v2t,(t,0,1),show=False)\n",
    "    p1.extend(p2)\n",
    "    p1.show()\n",
    "    v1t=lambdify(t,v1t)\n",
    "    v2t=lambdify(t,v2t)\n",
    "    print(\"v1t(1) =\",v1t(1),\"\\nv2t(1) =\",v2t(1))"
   ]
  },
  {
   "cell_type": "code",
   "execution_count": 52,
   "metadata": {},
   "outputs": [
    {
     "data": {
      "image/png": "[encoded data removed]",
      "text/plain": [
       "<Figure size 432x288 with 1 Axes>"
      ]
     },
     "metadata": {
      "needs_background": "light"
     },
     "output_type": "display_data"
    },
    {
     "name": "stdout",
     "output_type": "stream",
     "text": [
      "v1t(1) = 78145.4281047113 \n",
      "v2t(1) = 150170.12504165436\n"
     ]
    }
   ],
   "source": [
    "w=100000\n",
    "v1t=V1(w,up1,sdp1)\n",
    "v2t=V2(w,up1,sdp1)\n",
    "plotV(v1t,v2t)"
   ]
  },
  {
   "cell_type": "code",
   "execution_count": 53,
   "metadata": {},
   "outputs": [
    {
     "name": "stdout",
     "output_type": "stream",
     "text": [
      "104074.15429197907\n"
     ]
    }
   ],
   "source": [
    "# In bank with a continuous compounding rate of 4% \n",
    "bank=w*pow(1+0.04/12,12)\n",
    "print(bank)"
   ]
  },
  {
   "cell_type": "markdown",
   "metadata": {},
   "source": [
    "Putting $w=100,000$ in a bank acount for 1 year will return $104074.15$.\n",
    "<br>\n",
    "Investing $w=100,000$ in the portfolio may return $78145.43$ to $150170.13$."
   ]
  },
  {
   "cell_type": "markdown",
   "metadata": {},
   "source": [
    "#### 1(b)"
   ]
  },
  {
   "cell_type": "code",
   "execution_count": 54,
   "metadata": {},
   "outputs": [
    {
     "name": "stdout",
     "output_type": "stream",
     "text": [
      "alpha = 0.75\n",
      "up = 0.045\n"
     ]
    }
   ],
   "source": [
    "dfvarP1=fvarP1.diff(al) #minimize variance when df=0\n",
    "a00=Bisection(0,1,dfvarP1,al)\n",
    "alpha1b=Newton(a00,1,pow(10,-10),dfvarP1,al)\n",
    "print(\"alpha =\",alpha1b)\n",
    "upal=upExpr(u1,u2)\n",
    "upal=lambdify(al,upal)\n",
    "up1b=upal(alpha1b)\n",
    "print(\"up =\",up1b)"
   ]
  },
  {
   "cell_type": "markdown",
   "metadata": {},
   "source": [
    "The optimal value of $\\alpha = 0.75$. And $w_1=\\alpha=0.75,\\ w2=1-\\alpha=0.25,\\ \\mu_p=0.045$."
   ]
  },
  {
   "cell_type": "code",
   "execution_count": 55,
   "metadata": {},
   "outputs": [
    {
     "name": "stdout",
     "output_type": "stream",
     "text": [
      "Variance = 0.025\n"
     ]
    },
    {
     "data": {
      "image/png": "[encoded data removed]",
      "text/plain": [
       "<Figure size 432x288 with 1 Axes>"
      ]
     },
     "metadata": {
      "needs_background": "light"
     },
     "output_type": "display_data"
    },
    {
     "name": "stdout",
     "output_type": "stream",
     "text": [
      "v1t(1) = 89304.89512234372 \n",
      "v2t(1) = 122521.19911302069\n"
     ]
    }
   ],
   "source": [
    "var1b=varP1(alpha1b)\n",
    "sd1b=sqrt(var1b)\n",
    "V1t1b=V1(w,up1b,sd1b)\n",
    "V2t1b=V2(w,up1b,sd1b)\n",
    "print(\"Variance =\",var1b)\n",
    "plotV(V1t1b,V2t1b)\n",
    "\n",
    "# sd < min{sig1,sig2}"
   ]
  },
  {
   "cell_type": "markdown",
   "metadata": {},
   "source": [
    "Investing $w=100,000$ in the portfolio may return $89304.90$ to $122521.20$ in 1 year."
   ]
  },
  {
   "cell_type": "markdown",
   "metadata": {},
   "source": [
    "#### 2(a)"
   ]
  },
  {
   "cell_type": "code",
   "execution_count": 33,
   "metadata": {},
   "outputs": [
    {
     "name": "stdout",
     "output_type": "stream",
     "text": [
      "alpha = 0.2906803254012495 , 1-alpha = 0.7093196745987504\n"
     ]
    }
   ],
   "source": [
    "u1=0.0005*pow(math.e,3*al)\n",
    "u2=0.07\n",
    "up2=0.05\n",
    "f2a=upExpr(u1,u2)-Fraction(up2)\n",
    "p02a=Bisection(0,1,f2a,al)\n",
    "alpha2a=Newton(p02a,1,pow(10,-10),f2a,al)\n",
    "print(\"alpha =\",alpha2a,\", 1-alpha =\", 1-alpha2a)"
   ]
  },
  {
   "cell_type": "markdown",
   "metadata": {},
   "source": [
    "When $\\mu_p=0.05$, $\\alpha=0.290680325$, $w_1=\\alpha=0.290680325,\\ w_2=1-\\alpha=0.709319675$."
   ]
  },
  {
   "cell_type": "code",
   "execution_count": 34,
   "metadata": {},
   "outputs": [
    {
     "name": "stdout",
     "output_type": "stream",
     "text": [
      "0.23245721207741235 0.482138166999266\n",
      "Riskiness of asset 1 is: 0.4180973511006655\n"
     ]
    }
   ],
   "source": [
    "cov2=-0.01  #covarience\n",
    "var1=pow(math.e,-3*al)  #sigma\n",
    "var2=0.4\n",
    "fvarP2=varPExpr(var1,var2,cov2)\n",
    "varP2=lambdify(al,fvarP2)\n",
    "varp2=varP2(alpha2a)\n",
    "sdp2=sqrt(varp2)\n",
    "print(varp2,sdp2)\n",
    "var1=lambdify(al,var1)\n",
    "print(\"Riskiness of asset 1 is:\", var1(alpha2a))"
   ]
  },
  {
   "cell_type": "markdown",
   "metadata": {},
   "source": [
    "The variance $\\sigma_p^2$ of the portfolio is $0.23245721$. The standard deviation is $0.48213816$."
   ]
  },
  {
   "cell_type": "code",
   "execution_count": 35,
   "metadata": {},
   "outputs": [
    {
     "name": "stdout",
     "output_type": "stream",
     "text": [
      "0.646604478101309\n",
      "0.632455532033676\n"
     ]
    },
    {
     "data": {
      "image/png": "[encoded data removed]",
      "text/plain": [
       "<Figure size 432x288 with 1 Axes>"
      ]
     },
     "metadata": {
      "needs_background": "light"
     },
     "output_type": "display_data"
    },
    {
     "name": "stdout",
     "output_type": "stream",
     "text": [
      "v1t(1) = 649119.6835701319 \n",
      "v2t(1) = 1702568.7959379887\n",
      "\n",
      "Putting in bank 1040741.5429197906\n"
     ]
    }
   ],
   "source": [
    "w=1000000\n",
    "print(sqrt(pow(math.e,-3*alpha2a)))  #sd1\n",
    "print(sqrt(0.4))  #sd2\n",
    "v1t=V1(w,up2,sdp2)\n",
    "v2t=V2(w,up2,sdp2)\n",
    "plotV(v1t,v2t)\n",
    "# In bank with a continuous compounding rate of 4% \n",
    "bank=w*pow(1+0.04/12,12)\n",
    "print(\"\\nPutting in bank\",bank)"
   ]
  },
  {
   "cell_type": "markdown",
   "metadata": {},
   "source": [
    "Putting $w=1,000,000$ in a bank acount for 1 year will return $1040741.54$.\n",
    "<br>\n",
    "Investing $w=1,000,000$ in the portfolio may return $649119.68$ to $1702568.80$ in 1 year."
   ]
  },
  {
   "cell_type": "markdown",
   "metadata": {},
   "source": [
    "#### 2(b)"
   ]
  },
  {
   "cell_type": "code",
   "execution_count": 40,
   "metadata": {},
   "outputs": [
    {
     "name": "stdout",
     "output_type": "stream",
     "text": [
      "alpha = 1.0 1-alpha = 0\n",
      "up = 0.010042768461593889\n"
     ]
    }
   ],
   "source": [
    "dfvarP2=fvarP2.diff(al) #minimize variance \n",
    "a0=Bisection(-1,1,dfvarP2,al)\n",
    "alpha2b=Newton(a0,1,pow(10,-10),dfvarP2,al)\n",
    "print(\"alpha =\",float(alpha2b), \"1-alpha =\",1-alpha2b)\n",
    "upal=upExpr(u1,u2)\n",
    "upal=lambdify(al,upal)\n",
    "up2b=upal(alpha2b)\n",
    "print(\"up =\",up2b)"
   ]
  },
  {
   "cell_type": "markdown",
   "metadata": {},
   "source": [
    "The optimal value is $\\alpha = 1$. And $w_1=\\alpha=1,\\ w2=1-\\alpha=0,\\ \\mu_p=0.01004277$."
   ]
  },
  {
   "cell_type": "code",
   "execution_count": 37,
   "metadata": {},
   "outputs": [
    {
     "data": {
      "image/png": "[encoded data removed]",
      "text/plain": [
       "<Figure size 432x288 with 1 Axes>"
      ]
     },
     "metadata": {
      "needs_background": "light"
     },
     "output_type": "display_data"
    },
    {
     "name": "stdout",
     "output_type": "stream",
     "text": [
      "v1t(1) = 808085.5141744089 \n",
      "v2t(1) = 1262599.8000782086\n",
      "var = 0.04978706836786368 sd= 0.223130160148429\n",
      "Riskiness of asset 1 is: 0.04978706836786368\n"
     ]
    }
   ],
   "source": [
    "var2b=varP2(alpha2b)\n",
    "sd2b=sqrt(var2b)\n",
    "V1t2b=V1(w,up2b,sd2b)\n",
    "V2t2b=V2(w,up2b,sd2b)\n",
    "plotV(V1t2b,V2t2b)\n",
    "print(\"var =\",varP2(alpha2b),\"sd=\",sqrt(varP2(alpha2b)))\n",
    "print(\"Riskiness of asset 1 is:\", var1(alpha2b))\n",
    "# sd < min{sig1,sig2}"
   ]
  },
  {
   "cell_type": "markdown",
   "metadata": {},
   "source": [
    "Investing $w=1,000,000$ in the portfolio may return $808085.51$ to $1262599.80$ in 1 year."
   ]
  },
  {
   "cell_type": "code",
   "execution_count": null,
   "metadata": {},
   "outputs": [],
   "source": []
  }
 ],
 "metadata": {
  "kernelspec": {
   "display_name": "Python 3",
   "language": "python",
   "name": "python3"
  },
  "language_info": {
   "codemirror_mode": {
    "name": "ipython",
    "version": 3
   },
   "file_extension": ".py",
   "mimetype": "text/x-python",
   "name": "python",
   "nbconvert_exporter": "python",
   "pygments_lexer": "ipython3",
   "version": "3.7.4"
  }
 },
 "nbformat": 4,
 "nbformat_minor": 2
}
