{
 "cells": [
  {
   "cell_type": "code",
   "execution_count": 10,
   "metadata": {},
   "outputs": [],
   "source": [
    "import math\n",
    "from sympy import *\n",
    "import numpy as np"
   ]
  },
  {
   "cell_type": "markdown",
   "metadata": {},
   "source": [
    "Forward-difference formula:"
   ]
  },
  {
   "cell_type": "code",
   "execution_count": null,
   "metadata": {},
   "outputs": [],
   "source": [
    "def forwardDF(vec_x,f):\n",
    "    f=lambdify(x,f)\n",
    "    h=vec_x[1]-vec_x[0]\n",
    "    vec_df=[]\n",
    "    n=np.size(vec_x)-1\n",
    "    for i in range(0,n):\n",
    "        print(((f(vec_x[i+1])-f(vec_x[i]))/h))\n",
    "        vec_df.append((f(vec_x[i+1])-f(vec_x[i]))/h)\n",
    "    return vec_df"
   ]
  },
  {
   "cell_type": "markdown",
   "metadata": {},
   "source": [
    "Backward-difference formula:"
   ]
  },
  {
   "cell_type": "code",
   "execution_count": null,
   "metadata": {},
   "outputs": [],
   "source": [
    "def backwardDF(vec_x,f):\n",
    "    f=lambdify(x,f)\n",
    "    h=vec_x[0]-vec_x[1]\n",
    "    vec_df=[]\n",
    "    n=np.size(vec_x)-1\n",
    "    for i in range(1,n+1):\n",
    "        vec_df.append((f(vec_x[i-1])-f(vec_x[i]))/h)\n",
    "    return vec_df"
   ]
  },
  {
   "cell_type": "markdown",
   "metadata": {},
   "source": [
    "Three-point endpoint formula:"
   ]
  },
  {
   "cell_type": "code",
   "execution_count": null,
   "metadata": {},
   "outputs": [],
   "source": [
    "def find(x0,vec_x):\n",
    "    l=np.size(vec_x)\n",
    "    for i in range(0,l):\n",
    "        if x0== vec_x[i]:\n",
    "            return i\n",
    "    return -1 # cannot find\n",
    "\n",
    "def threePtEnd(x0,vec_x,vec_f):\n",
    "    h=vec_x[1]-vec_x[0]\n",
    "    i=find(x0,vec_x)\n",
    "    l=np.size(vec_x)\n",
    "    if i==l-1:\n",
    "        dfx0=(vec_f[i-2]-4*vec_f[i-1]+3*vec_f[i])/(2*h)\n",
    "    else:\n",
    "        dfx0=(-3*vec_f[i]+4*vec_f[i+1]-vec_f[i+2])/(2*h)\n",
    "    return dfx0"
   ]
  },
  {
   "cell_type": "markdown",
   "metadata": {},
   "source": [
    "Three-point midpoint formula:"
   ]
  },
  {
   "cell_type": "code",
   "execution_count": null,
   "metadata": {},
   "outputs": [],
   "source": [
    "def threePtMid(x0,vec_x,vec_f):\n",
    "    h=vec_x[1]-vec_x[0]\n",
    "    i=find(x0,vec_x)\n",
    "    dfx0=(vec_f[i+1]-vec_f[i-1])/(2*h)\n",
    "    return dfx0"
   ]
  },
  {
   "cell_type": "markdown",
   "metadata": {},
   "source": [
    "### Closed Newton-Cotes Formulas:"
   ]
  },
  {
   "cell_type": "markdown",
   "metadata": {},
   "source": [
    "n=1, Trapezoidal rule:"
   ]
  },
  {
   "cell_type": "code",
   "execution_count": null,
   "metadata": {},
   "outputs": [],
   "source": [
    "def trapezoidal(x0,x1,f): \n",
    "    f=lambdify(x,f)\n",
    "    h=x1-x0\n",
    "    intf=(f(x0)+f(x1))*h/2\n",
    "    return intf"
   ]
  },
  {
   "cell_type": "markdown",
   "metadata": {},
   "source": [
    "n=2, Simpson's rule:"
   ]
  },
  {
   "cell_type": "code",
   "execution_count": 16,
   "metadata": {},
   "outputs": [],
   "source": [
    "def simpson(x0,x2,f): \n",
    "    f=lambdify(x,f)\n",
    "    x1=(x2+x0)/2\n",
    "    h=x1-x0\n",
    "    intf=(f(x0)+4*f(x1)+f(x2))*h/3\n",
    "    return intf"
   ]
  },
  {
   "cell_type": "markdown",
   "metadata": {},
   "source": [
    "n=3, Simpson's Three-Eighths rule:"
   ]
  },
  {
   "cell_type": "code",
   "execution_count": null,
   "metadata": {},
   "outputs": [],
   "source": [
    "def simpson38(x0,x3,f): \n",
    "    f=lambdify(x,f)\n",
    "    x1=(x3+2*x0)/3\n",
    "    h=x1-x0\n",
    "    x2=x1+h\n",
    "    intf=(f(x0)+3*f(x1)+3*f(x2)+f(x3))*3*h/8\n",
    "    return intf"
   ]
  },
  {
   "cell_type": "markdown",
   "metadata": {},
   "source": [
    "n=4:"
   ]
  },
  {
   "cell_type": "code",
   "execution_count": null,
   "metadata": {},
   "outputs": [],
   "source": [
    "def formula428(x0,x4,f):\n",
    "    f=lambdify(x,f)\n",
    "    x1=(x4+3*x0)/4\n",
    "    h=x1-x0\n",
    "    x2=x1+h\n",
    "    x3=x4-h\n",
    "    intf=(7*f(x0)+32*f(x1)+12*f(x2)+32*f(x3)+7*f(x4))*2*h/45\n",
    "    return intf"
   ]
  },
  {
   "cell_type": "markdown",
   "metadata": {},
   "source": [
    "### Open Newton-Cotes Formulas:"
   ]
  },
  {
   "cell_type": "markdown",
   "metadata": {},
   "source": [
    "n=0, Midpoint rule:"
   ]
  },
  {
   "cell_type": "code",
   "execution_count": 2,
   "metadata": {},
   "outputs": [],
   "source": [
    "def midpt(x_1,x1,f):\n",
    "    f=lambdify(x,f)\n",
    "    x0=(x_1+x1)/2\n",
    "    h=x1-x0\n",
    "    intf=2*h*f(x0)\n",
    "    return intf"
   ]
  },
  {
   "cell_type": "markdown",
   "metadata": {},
   "source": [
    "n=1:"
   ]
  },
  {
   "cell_type": "code",
   "execution_count": null,
   "metadata": {},
   "outputs": [],
   "source": [
    "def formula430(x_1,x2,f):\n",
    "    f=lambdify(x,f)\n",
    "    x0=(x2+2*x_1)/3\n",
    "    h=x0-x_1\n",
    "    x1=x0+h\n",
    "    intf=(f(x0)+f(x1))*3*h/2\n",
    "    return intf"
   ]
  },
  {
   "cell_type": "markdown",
   "metadata": {},
   "source": [
    "n=2:"
   ]
  },
  {
   "cell_type": "code",
   "execution_count": null,
   "metadata": {},
   "outputs": [],
   "source": [
    "def formula431(x_1,x3,f):\n",
    "    f=lambdify(x,f)\n",
    "    x0=(x3+3*x_1)/4\n",
    "    h=x0-x_1\n",
    "    x1=x0+h\n",
    "    x2=x1+h\n",
    "    intf=(2*f(x0)-f(x1)+2*f(x2))*4*h/3\n",
    "    return intf"
   ]
  },
  {
   "cell_type": "markdown",
   "metadata": {},
   "source": [
    "n=3:"
   ]
  },
  {
   "cell_type": "code",
   "execution_count": null,
   "metadata": {},
   "outputs": [],
   "source": [
    "def formula432(x_1,x4,f):\n",
    "    f=lambdify(x,f)\n",
    "    x0=(x4+4*x_1)/5\n",
    "    h=x0-x_1\n",
    "    x1=x0+h\n",
    "    x2=x1+h\n",
    "    x3=x2+h\n",
    "    intf=(11*f(x0)+f(x1)+f(x2)+11*f(x3))*5*h/24\n",
    "    return intf"
   ]
  },
  {
   "cell_type": "markdown",
   "metadata": {},
   "source": [
    "Euler's method:"
   ]
  },
  {
   "cell_type": "code",
   "execution_count": null,
   "metadata": {},
   "outputs": [],
   "source": [
    "def Euler(f,a,b,alpha,h):\n",
    "    '''\n",
    "    f: function:\n",
    "    a,b: endpoints\n",
    "    alpha: initial condition\n",
    "    h: step size'''\n",
    "    f=lambdify((t,y),f)\n",
    "    tt=a\n",
    "    ww=alpha\n",
    "    N=int((b-a)/h)\n",
    "    ti=[]\n",
    "    wi=[]\n",
    "    for i in range(1,N+1):\n",
    "        ww=ww+h*f(tt,ww)\n",
    "        tt=a+i*h\n",
    "        ti.append(tt)\n",
    "        wi.append(ww)\n",
    "    return ti,wi"
   ]
  },
  {
   "cell_type": "code",
   "execution_count": null,
   "metadata": {},
   "outputs": [],
   "source": []
  }
 ],
 "metadata": {
  "kernelspec": {
   "display_name": "Python 3",
   "language": "python",
   "name": "python3"
  },
  "language_info": {
   "codemirror_mode": {
    "name": "ipython",
    "version": 3
   },
   "file_extension": ".py",
   "mimetype": "text/x-python",
   "name": "python",
   "nbconvert_exporter": "python",
   "pygments_lexer": "ipython3",
   "version": "3.7.4"
  }
 },
 "nbformat": 4,
 "nbformat_minor": 2
}
