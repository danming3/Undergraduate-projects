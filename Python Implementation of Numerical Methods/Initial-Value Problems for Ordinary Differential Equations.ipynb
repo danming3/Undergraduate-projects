{
 "cells": [
  {
   "cell_type": "code",
   "execution_count": 6,
   "metadata": {},
   "outputs": [],
   "source": [
    "import math\n",
    "from sympy import *\n",
    "import numpy as np\n",
    "t=Symbol('t')\n",
    "y=Symbol('y')\n",
    "w=Symbol('w')"
   ]
  },
  {
   "cell_type": "markdown",
   "metadata": {},
   "source": [
    "Goal: obtain approximations to the well-posed initial-value problem\n",
    "$$\\frac{dy}{dt}=f(t,y),\\ a\\leq t\\leq b,\\ y(a)=\\alpha.$$"
   ]
  },
  {
   "cell_type": "markdown",
   "metadata": {},
   "source": [
    "Euler's method:"
   ]
  },
  {
   "cell_type": "code",
   "execution_count": null,
   "metadata": {},
   "outputs": [],
   "source": [
    "def Euler(f,a,b,alpha,h):\n",
    "    '''\n",
    "    f: function:\n",
    "    a,b: endpoints\n",
    "    alpha: initial condition\n",
    "    h: step size\n",
    "    '''\n",
    "    f=lambdify((t,y),f)\n",
    "    tt=a\n",
    "    ww=alpha\n",
    "    N=int((b-a)/h)\n",
    "    ti=[]\n",
    "    wi=[]\n",
    "    for i in range(1,N+1):\n",
    "        ww=ww+h*f(tt,ww)\n",
    "        tt=a+i*h\n",
    "        ti.append(tt)\n",
    "        wi.append(ww)\n",
    "    return ti,wi"
   ]
  },
  {
   "cell_type": "markdown",
   "metadata": {},
   "source": [
    "Modified Euler Method:"
   ]
  },
  {
   "cell_type": "code",
   "execution_count": null,
   "metadata": {},
   "outputs": [],
   "source": [
    "def ModEuler(f,a,b,alpha,h):\n",
    "    f=lambdify((t,y),f)\n",
    "    tt=a\n",
    "    ww=alpha\n",
    "    N=int((b-a)/h)\n",
    "    ti=[]\n",
    "    wi=[]\n",
    "    for i in range(1,N+1):\n",
    "        ww=ww+(h/2)*(f(tt,ww)+f(tt+h,ww+h*f(tt,ww)))\n",
    "        tt=a+i*h\n",
    "        ti.append(tt)\n",
    "        wi.append(ww)\n",
    "    return ti,wi"
   ]
  },
  {
   "cell_type": "markdown",
   "metadata": {},
   "source": [
    "Midpoint Method:"
   ]
  },
  {
   "cell_type": "code",
   "execution_count": 1,
   "metadata": {},
   "outputs": [],
   "source": [
    "def MidPt(f,a,b,alpha,h):\n",
    "    f=lambdify((t,y),f)\n",
    "    tt=a\n",
    "    ww=alpha\n",
    "    N=int((b-a)/h)\n",
    "    ti=[]\n",
    "    wi=[]\n",
    "    for i in range(1,N+1):\n",
    "        ww=ww+h*f(tt+h/2,ww+(h/2)*f(tt,ww))\n",
    "        tt=a+i*h\n",
    "        ti.append(tt)\n",
    "        wi.append(ww)\n",
    "    return ti,wi"
   ]
  },
  {
   "cell_type": "markdown",
   "metadata": {},
   "source": [
    "Heun's Method:"
   ]
  },
  {
   "cell_type": "code",
   "execution_count": 2,
   "metadata": {},
   "outputs": [],
   "source": [
    "def Heuns(f,a,b,alpha,h):\n",
    "    f=lambdify((t,y),f)\n",
    "    tt=a\n",
    "    ww=alpha\n",
    "    N=int((b-a)/h)\n",
    "    ti=[]\n",
    "    wi=[]\n",
    "    for i in range(1,N+1):\n",
    "        ww=ww+(h/4)*(f(tt,ww)+3*(f(tt+2*h/3,ww+(2*h/3)*f(tt+h/3,ww+(h/3)*f(tt,ww)))))\n",
    "        tt=a+i*h\n",
    "        ti.append(tt)\n",
    "        wi.append(ww)\n",
    "    return ti,wi"
   ]
  },
  {
   "cell_type": "markdown",
   "metadata": {},
   "source": [
    "Runge-Kutta Method (Order Four):"
   ]
  },
  {
   "cell_type": "code",
   "execution_count": null,
   "metadata": {},
   "outputs": [],
   "source": [
    "def RungeKutta4(f,a,b,alpha,h):\n",
    "    f=lambdify((t,y),f)\n",
    "    tt=a\n",
    "    ww=alpha\n",
    "    N=int((b-a)/h)\n",
    "    ti=[]\n",
    "    wi=[]\n",
    "    for i in range(1,N+1):\n",
    "        K1=h*f(tt,ww)\n",
    "        K2=h*f(tt+h/2,ww+K1/2)\n",
    "        K3=h*f(tt+h/2,ww+K2/2)\n",
    "        K4=h*f(tt+h,ww+K3)\n",
    "        ww+=(K1+2*K2+2*K3+K4)/6\n",
    "        tt=a+i*h\n",
    "        ti.append(tt)\n",
    "        wi.append(ww)\n",
    "    return ti,wi"
   ]
  },
  {
   "cell_type": "markdown",
   "metadata": {},
   "source": [
    "### Adams-Bashforth Explicit Methods\n",
    "\n",
    "Adams-Bashforth Two-Step Explicit Method:"
   ]
  },
  {
   "cell_type": "code",
   "execution_count": null,
   "metadata": {},
   "outputs": [],
   "source": [
    "def Ab2(f,ti,wi,a,b,h):\n",
    "    f=lambdify((t,y),f)\n",
    "    N=int((b-a)/h)\n",
    "    ti2=ti[0:2]\n",
    "    wi2=wi[0:2]\n",
    "    for i in range(1,N):\n",
    "        ww=wi2[i]+h/2*(3*f(ti2[i],wi2[i])-f(ti2[i-1],wi2[i-1]))\n",
    "        tt=a+(i+1)*h\n",
    "        ti2.append(tt)\n",
    "        wi2.append(ww)\n",
    "    return ti2,wi2"
   ]
  },
  {
   "cell_type": "markdown",
   "metadata": {},
   "source": [
    "Adams-Bashforth Three-Step Explicit Method:"
   ]
  },
  {
   "cell_type": "code",
   "execution_count": null,
   "metadata": {},
   "outputs": [],
   "source": [
    "def Ab3(f,ti,wi,a,b,h):\n",
    "    f=lambdify((t,y),f)\n",
    "    N=int((b-a)/h)\n",
    "    ti3=ti[0:3]\n",
    "    wi3=wi[0:3]\n",
    "    for i in range(2,N):\n",
    "        ww=wi3[i]+h/12*(23*f(ti3[i],wi3[i])-16*f(ti3[i-1],wi3[i-1])+5*f(ti3[i-2],wi3[i-2]))\n",
    "        tt=a+(i+1)*h\n",
    "        ti3.append(tt)\n",
    "        wi3.append(ww)\n",
    "    return ti3,wi3"
   ]
  },
  {
   "cell_type": "markdown",
   "metadata": {},
   "source": [
    "Adams-Bashforth Four-Step Explicit Method:"
   ]
  },
  {
   "cell_type": "code",
   "execution_count": null,
   "metadata": {},
   "outputs": [],
   "source": [
    "def Ab4(f,ti,wi,a,b,h):\n",
    "    f=lambdify((t,y),f)\n",
    "    N=int((b-a)/h)\n",
    "    ti4=ti[0:4]\n",
    "    wi4=wi[0:4]\n",
    "    for i in range(3,N):\n",
    "        ww=wi4[i]+h/24*(55*f(ti4[i],wi4[i])-59*f(ti4[i-1],wi4[i-1])+37*f(ti4[i-2],wi4[i-2])-9*f(ti4[i-3],wi4[i-3]))\n",
    "        tt=a+(i+1)*h\n",
    "        ti4.append(tt)\n",
    "        wi4.append(ww)\n",
    "    return ti4,wi4"
   ]
  },
  {
   "cell_type": "markdown",
   "metadata": {},
   "source": [
    "Adams-Bashforth Five-Step Explicit Method:"
   ]
  },
  {
   "cell_type": "code",
   "execution_count": null,
   "metadata": {},
   "outputs": [],
   "source": [
    "def Ab5(f,ti,wi,a,b,h):\n",
    "    f=lambdify((t,y),f)\n",
    "    N=int((b-a)/h)\n",
    "    ti5=ti[0:5]\n",
    "    wi5=wi[0:5]\n",
    "    for i in range(4,N):\n",
    "        ww=wi5[i]+h/720*(1901*f(ti5[i],wi5[i])-2774*f(ti5[i-1],wi5[i-1])+2616*f(ti5[i-2],wi5[i-2])-1274*f(ti5[i-3],wi5[i-3])+251*f(ti5[i-4],wi5[i-4]))\n",
    "        tt=a+(i+1)*h\n",
    "        ti5.append(tt)\n",
    "        wi5.append(ww)\n",
    "    return ti5,wi5"
   ]
  },
  {
   "cell_type": "markdown",
   "metadata": {},
   "source": [
    "### Adams-Moulton Implicit Methods\n",
    "\n",
    "Adams-Moulton Two-Step Implicit Method:"
   ]
  },
  {
   "cell_type": "code",
   "execution_count": null,
   "metadata": {},
   "outputs": [],
   "source": [
    "def AM2(f,ti,wi,a,b,h):\n",
    "    f=lambdify((t,y),f)\n",
    "    N=int((b-a)/h)\n",
    "    ti2=ti.copy()\n",
    "    wi2=wi.copy()\n",
    "    for i in range(1,N):\n",
    "        x=wi2[i]+h/12*(5*f(ti2[i+1],w)+8*f(ti2[i],wi2[i])-f(ti2[i-1],wi2[i-1]))\n",
    "        ww=solve(x-w,w)[0]\n",
    "        tt=a+(i+1)*h\n",
    "        ti2[i+1]=tt\n",
    "        wi2[i+1]=ww\n",
    "    return ti2,wi2"
   ]
  },
  {
   "cell_type": "markdown",
   "metadata": {},
   "source": [
    "Adams-Moulton Three-Step Implicit Method:"
   ]
  },
  {
   "cell_type": "code",
   "execution_count": null,
   "metadata": {},
   "outputs": [],
   "source": [
    "def AM3(f,ti,wi,a,b,h):\n",
    "    f=lambdify((t,y),f)\n",
    "    N=int((b-a)/h)\n",
    "    ti3=ti.copy()\n",
    "    wi3=wi.copy()\n",
    "    for i in range(2,N):\n",
    "        x=wi3[i]+h/24*(9*f(ti3[i+1],w)+19*f(ti3[i],wi3[i])-5*f(ti3[i-1],wi3[i-1])+f(ti3[i-2],wi3[i-2]))\n",
    "        ww=solve(x-w,w)[0]\n",
    "        tt=a+(i+1)*h\n",
    "        ti3[i+1]=tt\n",
    "        wi3[i+1]=ww\n",
    "    return ti3,wi3"
   ]
  },
  {
   "cell_type": "markdown",
   "metadata": {},
   "source": [
    "Adams-Moulton Four-Step Implicit Method:"
   ]
  },
  {
   "cell_type": "code",
   "execution_count": 7,
   "metadata": {},
   "outputs": [],
   "source": [
    "def AM4(f,ti,wi,a,b,h):\n",
    "    f=lambdify((t,y),f)\n",
    "    N=int((b-a)/h)\n",
    "    ti4=ti.copy()\n",
    "    wi4=wi.copy()\n",
    "    for i in range(3,N):\n",
    "        x=wi4[i]+h/720*(251*f(ti4[i+1],w)+646*f(ti4[i],wi4[i])-264*f(ti4[i-1],wi4[i-1])+106*f(ti4[i-2],wi4[i-2])-19*f(ti4[i-3],wi4[i-3]))\n",
    "        ww=solve(x-w,w)[0]\n",
    "        tt=a+(i+1)*h\n",
    "        ti4[i+1]=tt\n",
    "        wi4[i+1]=ww\n",
    "    return ti4,wi4"
   ]
  },
  {
   "cell_type": "markdown",
   "metadata": {},
   "source": [
    "### Predictor-Corrector Method\n",
    "\n",
    "Adams Fourth-Order Predictor-Corrector Method:"
   ]
  },
  {
   "cell_type": "code",
   "execution_count": null,
   "metadata": {},
   "outputs": [],
   "source": [
    "def Adams4PC(f,a,b,alpha,h):\n",
    "    f=lambdify((t,y),f)\n",
    "    N=int((b-a)/h)\n",
    "    ti=[a]\n",
    "    wi=[alpha]\n",
    "    for i in range(1,4):\n",
    "        K1=h*f(ti[i-1],wi[i-1])\n",
    "        K2=h*f(ti[i-1]+h/2,wi[i-1]+K1/2)\n",
    "        K3=h*f(ti[i-1]+h/2,wi[i-1]+K2/2)\n",
    "        K4=h*f(ti[i-1]+h,wi[i-1]+K3)\n",
    "        ww=wi[i-1]+(K1+2*K2+2*K3+K4)/6\n",
    "        tt=a+i*h\n",
    "        ti.append(tt)\n",
    "        wi.append(ww)\n",
    "    for i in range(4,N+1):\n",
    "        tt=a+i*h\n",
    "        # predict wi\n",
    "        ww=wi[i-1]+h*(55*f(ti[i-1],wi[i-1])-59*f(ti[i-2],wi[i-2])+37*f(ti[i-3],wi[i-3])-9*f(ti[i-4],wi[i-4]))/24\n",
    "        # correct wi\n",
    "        ww=wi[i-1]+h*(9*f(tt,ww)+19*f(ti[i-1],wi[i-1])-5*f(ti[i-2],wi[i-2])+f(ti[i-3],wi[i-3]))/24\n",
    "        ti.append(tt)\n",
    "        wi.append(ww)\n",
    "    return ti,wi"
   ]
  },
  {
   "cell_type": "markdown",
   "metadata": {},
   "source": [
    "Milne-Simpson Predictor-Corrector Method:"
   ]
  },
  {
   "cell_type": "code",
   "execution_count": null,
   "metadata": {},
   "outputs": [],
   "source": [
    "def MilneSimpson(f,ti,wi,a,b,h):\n",
    "    f=lambdify((t,y),f)\n",
    "    N=int((b-a)/h)\n",
    "    ti2=ti.copy()\n",
    "    wi2=wi.copy()\n",
    "    for i in range(3,N):\n",
    "        tt=a+(i+1)*h\n",
    "        # Milne's method\n",
    "        ww=wi2[i-3]+4*h/3*(2*f(ti2[i],wi2[i])-f(ti2[i-1],wi2[i-1])+2*f(ti2[i-2],wi2[i-2]))\n",
    "        # Simpson's method\n",
    "        ww=wi2[i-1]+h/3*(f(tt,ww)+4*f(ti2[i],wi2[i])+f(ti2[i-1],wi2[i-1]))\n",
    "        ti2[i+1]=tt\n",
    "        wi2[i+1]=ww\n",
    "    return ti2,wi2"
   ]
  },
  {
   "cell_type": "markdown",
   "metadata": {},
   "source": [
    "Trapezoidal with Newton Iteration:"
   ]
  },
  {
   "cell_type": "code",
   "execution_count": null,
   "metadata": {},
   "outputs": [],
   "source": [
    "def Trapezoidal(f,a,b,alpha,h,TOL):\n",
    "    fy=f.diff(y)\n",
    "    f=lambdify((t,y),f)\n",
    "    fy=lambdify((t,y),fy)\n",
    "    N=int((b-a)/h)\n",
    "    tt=a\n",
    "    ww=alpha\n",
    "    ti=[a]\n",
    "    wi=[alpha]\n",
    "    M=[0]\n",
    "    for i in range(1,N+1):\n",
    "        k1=ww+h/2*f(tt,ww)\n",
    "        w0=k1\n",
    "        j=1\n",
    "        FLAG=0\n",
    "        while (FLAG==0):\n",
    "            ww=w0-(w0-h/2*f(tt+h,w0)-k1)/(1-h/2*fy(tt+h,w0))\n",
    "            if abs(ww-w0)<TOL:\n",
    "                FLAG=1\n",
    "            else:\n",
    "                j+=1\n",
    "                w0=ww\n",
    "        tt=a+i*h\n",
    "        ti.append(tt)\n",
    "        wi.append(ww)\n",
    "        M.append(j)\n",
    "    return ti,wi,M"
   ]
  },
  {
   "cell_type": "markdown",
   "metadata": {},
   "source": [
    "## Numerical solution of higher-order initial-value problems\n",
    "\n",
    "An $m$th-ordr system of first-order initial-value problems\n",
    "\n",
    "$\\begin{align*}\n",
    "\\frac{du_1}{dt}&=f_1(t,u_1,u_2,...,u_m),\\\\\n",
    "\\frac{du_2}{dt}&=f_2(t,u_1,u_2,...,u_m),\\\\\n",
    "&\\vdots\\\\\n",
    "\\frac{du_m}{dt}&=f_m(t,u_1,u_2,...,u_m),\n",
    "\\end{align*}$\n",
    "\n",
    "for $a\\leq t\\leq b$ with the initial conditions $u_1(a)=\\alpha_1,\\ u_2(a)=\\alpha_1, \\cdots,u_m(a)=\\alpha_m$.\n",
    "\n",
    "Goal: find $m$ funcions $u_1(t),u_2(t),\\cdots, u_m(t)$ that satisfy each of the differential equations together with all the initial conditions."
   ]
  },
  {
   "cell_type": "markdown",
   "metadata": {},
   "source": [
    "Runge-Kutta Method for Systems of Differential Equations:"
   ]
  },
  {
   "cell_type": "code",
   "execution_count": null,
   "metadata": {},
   "outputs": [],
   "source": [
    "def RungeKuttaSystem(funcs,alphas,a,b,m,h,um):\n",
    "    '''\n",
    "    funcs: list of sympy functions f_i(t,u_1,u_2,...,u_m)\n",
    "    alphas: initial conditions\n",
    "    a,b: endpoints\n",
    "    m: mumber of equations\n",
    "    h: step size\n",
    "    um: exact solutions of u_i(t) if given\n",
    "    '''\n",
    "    for j in range(0,m):\n",
    "        um[j]=lambdify(t,um[j])\n",
    "    N=int((b-a)/h)\n",
    "    tt=a\n",
    "    wj=alphas.copy()\n",
    "    k_table=np.zeros((4+1,m+1))\n",
    "    tw=[[tt,alphas,alphas]]\n",
    "    for i in range(1,N+1):\n",
    "        for j in range(1,m+1):\n",
    "            k_table[1][j]=h*funcs(j,tt,wj)\n",
    "        for j in range(1,m+1):\n",
    "            wj2=wj.copy()\n",
    "            for k in range(0,m):\n",
    "                wj2[k]=wj2[k]+1/2*k_table[1][k+1]\n",
    "            k_table[2][j]=h*funcs(j,tt+h/2,wj2)\n",
    "        for j in range(1,m+1):\n",
    "            wj3=wj.copy()\n",
    "            for k in range(0,m):\n",
    "                wj3[k]=wj3[k]+1/2*k_table[2][k+1]\n",
    "            k_table[3][j]=h*funcs(j,tt+h/2,wj3)\n",
    "        for j in range(1,m+1):\n",
    "            wj4=wj.copy()\n",
    "            for k in range(0,m):  \n",
    "                wj4[k]=wj4[k]+k_table[3][k+1]\n",
    "            k_table[4][j]=h*funcs(j,tt+h,wj4)\n",
    "        for j in range(1,m+1):\n",
    "            wj[j-1]=wj[j-1]+(k_table[1][j]+2*k_table[2][j]+2*k_table[3][j]+k_table[4][j])/6\n",
    "        tt=a+i*h\n",
    "        um_exact=[]\n",
    "        wjj=[]\n",
    "        for j in range(0,m):\n",
    "            um_exact.append(um[j](tt))\n",
    "            wjj.append(wj[j])\n",
    "        tw.append([tt,wjj,um_exact])\n",
    "    \n",
    "    return tw"
   ]
  }
 ],
 "metadata": {
  "kernelspec": {
   "display_name": "Python 3",
   "language": "python",
   "name": "python3"
  },
  "language_info": {
   "codemirror_mode": {
    "name": "ipython",
    "version": 3
   },
   "file_extension": ".py",
   "mimetype": "text/x-python",
   "name": "python",
   "nbconvert_exporter": "python",
   "pygments_lexer": "ipython3",
   "version": "3.7.4"
  }
 },
 "nbformat": 4,
 "nbformat_minor": 2
}
