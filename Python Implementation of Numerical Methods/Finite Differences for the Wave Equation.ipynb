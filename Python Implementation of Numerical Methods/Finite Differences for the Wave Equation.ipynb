{
 "cells": [
  {
   "cell_type": "code",
   "execution_count": 1,
   "metadata": {},
   "outputs": [],
   "source": [
    "import math\n",
    "import numpy as np\n",
    "import scipy.sparse.linalg"
   ]
  },
  {
   "cell_type": "markdown",
   "metadata": {},
   "source": [
    "### One-way wave equation $$u_t+u_x=0$$"
   ]
  },
  {
   "cell_type": "markdown",
   "metadata": {},
   "source": [
    "Forward-time forward-space scheme $$\\frac{v_j^{n+1}-v_j^n}{k}+\\frac{v_{j+1}^n-v_j^n}{h}=0,$$ i.e., $$v_j^{n+1}=v_j^n-\\lambda(v_{j+1}^n-v_j^n)$$ where $\\lambda=\\frac{k}{h}$."
   ]
  },
  {
   "cell_type": "code",
   "execution_count": 2,
   "metadata": {},
   "outputs": [],
   "source": [
    "def FTFS(I, T, a,b, ld,h):\n",
    "    # I: initial conditions u_0(x,y)\n",
    "    # [a,b]: interval for x\n",
    "    # T: maximum time\n",
    "    # h: Delta x \n",
    "    # ld: lambda=k/h\n",
    "    k=ld*h # k: Delta t\n",
    "    M= int((b-a)/h) # M: number of x's\n",
    "    N= int((T-0)/k) # N: number of t's\n",
    "    x=np.linspace(a,b,M+1) # mesh points in space\n",
    "    t=np.linspace(0,T,N+1) # mesh points in time \n",
    "    v = np.zeros(M+1) # unknown v at new time level\n",
    "    v_n = np.zeros(M+1) # v at the previous time level\n",
    "    v_all=[] # v at all time levels\n",
    "    # Set initial condition u(x,0)=u_0(x)=I(x)\n",
    "    for j in range(0,M+1):\n",
    "        v_n[j]=I(x[j])\n",
    "    v_all.append(v_n.copy())\n",
    "    for n in range(0,N):\n",
    "        # Compute u at inner mesh points\n",
    "        for j in range(0,M):\n",
    "            v[j]=v_n[j]-ld*(v_n[j+1]-v_n[j])\n",
    "        \n",
    "        # Insert boundary condition v_M^{n+1}=v_{M-1}^{n+1} for this problem\n",
    "        v[M]=v[M-1]\n",
    "        \n",
    "        # Update v_n before the next step\n",
    "        v_n, v=v, v_n\n",
    "        v_all.append(v_n.copy())\n",
    "    \n",
    "    return v_n,x,t,v_all \n",
    "#v_n holds latest v, i.e. v(x,T), v_all holds v at all time levels"
   ]
  },
  {
   "cell_type": "markdown",
   "metadata": {},
   "source": [
    "Forward-time backward-space scheme $$\\frac{v_j^{n+1}-v_j^n}{k}+\\frac{v_{j}^n-v_{j-1}^n}{h}=0,$$ i.e., $$v_j^{n+1}=v_j^n-\\lambda(v_{j}^n-v_{j-1}^n)$$ where $\\lambda=\\frac{k}{h}$. This scheme is stable when $\\lambda\\leq 1$."
   ]
  },
  {
   "cell_type": "code",
   "execution_count": null,
   "metadata": {},
   "outputs": [],
   "source": [
    "def FTBS(I, T, a,b, ld,h):\n",
    "    # I: initial conditions u_0(x,y)\n",
    "    # [a,b]: interval for x\n",
    "    # T: maximum time\n",
    "    # h: Delta x \n",
    "    # ld: lambda=k/h\n",
    "    k=ld*h # k: Delta t\n",
    "    M= int((b-a)/h) # M: number of x's\n",
    "    N= int((T-0)/k) # N: number of t's\n",
    "    x=np.linspace(a,b,M+1) # mesh points in space\n",
    "    t=np.linspace(0,T,N+1) # mesh points in time \n",
    "    v = np.zeros(M+1) # unknown v at new time level\n",
    "    v_n = np.zeros(M+1) # v at the previous time level\n",
    "    v_all=[] # v at all time levels\n",
    "    # Set initial condition u(x,0)=u_0(x)=I(x)\n",
    "    for j in range(0,M+1):\n",
    "        v_n[j]=I(x[j])\n",
    "    v_all.append(v_n.copy())\n",
    "    for n in range(0,N):\n",
    "        # Compute u at inner mesh points\n",
    "        for j in range(1,M+1):\n",
    "            v[j]=v_n[j]-ld*(v_n[j]-v_n[j-1])\n",
    "        \n",
    "        # Insert boundary condition v(-1)=0 for this problem\n",
    "        v[0]=0\n",
    "        \n",
    "        # Update v_n before the next step\n",
    "        v_n, v=v, v_n\n",
    "        v_all.append(v_n.copy())\n",
    "    \n",
    "    return v_n,x,t,v_all \n",
    "#v_n holds latest v, i.e. v(x,T), v_all holds v at all time levels"
   ]
  }
 ],
 "metadata": {
  "kernelspec": {
   "display_name": "Python 3",
   "language": "python",
   "name": "python3"
  },
  "language_info": {
   "codemirror_mode": {
    "name": "ipython",
    "version": 3
   },
   "file_extension": ".py",
   "mimetype": "text/x-python",
   "name": "python",
   "nbconvert_exporter": "python",
   "pygments_lexer": "ipython3",
   "version": "3.7.4"
  }
 },
 "nbformat": 4,
 "nbformat_minor": 2
}
