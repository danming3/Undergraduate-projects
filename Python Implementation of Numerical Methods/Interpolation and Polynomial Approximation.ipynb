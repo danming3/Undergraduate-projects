{
 "cells": [
  {
   "cell_type": "code",
   "execution_count": 10,
   "metadata": {},
   "outputs": [],
   "source": [
    "import math\n",
    "from sympy import *\n",
    "import numpy as np"
   ]
  },
  {
   "cell_type": "markdown",
   "metadata": {},
   "source": [
    "Lagrange interpolating polynomial of degree at most $n$:"
   ]
  },
  {
   "cell_type": "code",
   "execution_count": 9,
   "metadata": {},
   "outputs": [],
   "source": [
    "def L(n,k,xx,lx):\n",
    "    '''\n",
    "    n: interpolating polynomical of degree at most n\n",
    "    k: intermediate degree\n",
    "    lx: list of initial given values x0, x1, x2, [x0,x1,x2]\n",
    "    \n",
    "    '''\n",
    "    result=1\n",
    "    for i in range(0,n+1):\n",
    "        if i!=k:\n",
    "            result=result*((xx-lx[i])/(lx[k]-lx[i]))\n",
    "        else:\n",
    "            result=result\n",
    "    return result\n",
    "\n",
    "def P(f,xx,lx,n):\n",
    "    '''\n",
    "    f: sympy expression of function f(x)\n",
    "    lx: list of initial given values x0, x1, x2, [x0,x1,x2]\n",
    "    n: interpolating polynomical of degree at most n\n",
    "    \n",
    "    returns the appoximation of f(xx)\n",
    "    \n",
    "    '''\n",
    "    f = lambdify(x, f)\n",
    "    px=0\n",
    "    for k in range(0,n+1):\n",
    "        px+=(f(lx[k])*L(n,k,xx,lx))\n",
    "    print(\"f(\",xx,\") ≈ \",px, sep=\"\")\n",
    "    return px"
   ]
  },
  {
   "cell_type": "markdown",
   "metadata": {},
   "source": [
    "Neville's method:"
   ]
  },
  {
   "cell_type": "code",
   "execution_count": null,
   "metadata": {},
   "outputs": [],
   "source": [
    "def neville(xx, vec_x, vec_f, Q_table = None, i0 = -1, j0 = -1):\n",
    "    '''\n",
    "    reference: http://web.math.ucsb.edu/~atzberg/pmwiki_intranet/uploads/Teaching2019Fall104A/Nevilles-Method-Atzberger.pdf\n",
    "    '''\n",
    "    n = np.size(vec_x) - 1;  # x0, x1, ..., xn.\n",
    "\n",
    "    if (Q_table == None):\n",
    "        Q_table = np.zeros((n + 1, n + 1));\n",
    "\n",
    "    for i in np.arange(0, n + 1):\n",
    "        Q_table[i][0] = vec_f[i];\n",
    "  \n",
    "    for j in np.arange(1, n + 1):\n",
    "        for i in np.arange(j, n + 1):\n",
    "            # compute Q_{i,j}\n",
    "            Q_table[i][j]  = 0.0;\n",
    "            Q_table[i][j] += (xx - vec_x[i - j])*Q_table[i][j - 1];\n",
    "            Q_table[i][j] -= (xx - vec_x[i])*Q_table[i - 1][j - 1];\n",
    "            Q_table[i][j] /= (vec_x[i] - vec_x[i - j]);\n",
    "                   \n",
    "    return Q_table[n][n], Q_table;    "
   ]
  },
  {
   "cell_type": "markdown",
   "metadata": {},
   "source": [
    "Newton's divided difference method:"
   ]
  },
  {
   "cell_type": "code",
   "execution_count": 11,
   "metadata": {},
   "outputs": [],
   "source": [
    "def DivDiff(xx, vec_x, vec_f, F_table = None, i0 = -1, j0 = -1):\n",
    "    n = np.size(vec_x) - 1;  # x0, x1, ..., xn.\n",
    "\n",
    "    if (F_table == None):\n",
    "        F_table = np.zeros((n + 1, n + 1));\n",
    "\n",
    "    for i in np.arange(0, n + 1):\n",
    "        F_table[i][0] = vec_f[i];\n",
    "  \n",
    "    for j in np.arange(1, n + 1):\n",
    "        for i in np.arange(j, n + 1):\n",
    "        # compute F_{i,j}\n",
    "            F_table[i][j]  = 0.0;\n",
    "            F_table[i][j] += F_table[i][j - 1];\n",
    "            F_table[i][j] -= F_table[i - 1][j - 1];\n",
    "            F_table[i][j] /= (vec_x[i] - vec_x[i-j]);\n",
    "        \n",
    "    P_x=F_table[0][0]\n",
    "    P_xx=F_table[0][0] #expression in x\n",
    "    for i in range(1,n+1):\n",
    "        product=1\n",
    "        productx=1\n",
    "        for j in range(0,i):\n",
    "            #compute P_n_(x)\n",
    "            product*=(xx-vec_x[j])\n",
    "            productx*=(x-vec_x[j])\n",
    "        P_x+=F_table[i][i]*product\n",
    "        P_xx+=F_table[i][i]*productx\n",
    "\n",
    "    return P_x, P_xx, F_table; "
   ]
  },
  {
   "cell_type": "markdown",
   "metadata": {},
   "source": [
    "Newton forward-difference method:"
   ]
  },
  {
   "cell_type": "code",
   "execution_count": null,
   "metadata": {},
   "outputs": [],
   "source": [
    "def ForwardDivDiff(xx, vec_x, vec_f, F_table = None, i0 = -1, j0 = -1):\n",
    "    n = np.size(vec_x) - 1;  # x0, x1, ..., xn.\n",
    "    h=vec_x[1]-vec_x[0]\n",
    "    ss=(xx-vec_x[0])/h\n",
    "    if (F_table == None):\n",
    "        F_table = np.zeros((n + 1, n + 1));\n",
    "\n",
    "    for i in np.arange(0, n + 1):\n",
    "        F_table[i][0] = vec_f[i];\n",
    "  \n",
    "    for j in np.arange(1, n + 1):\n",
    "        for i in np.arange(j, n + 1):\n",
    "        # compute F_{i,j}\n",
    "            F_table[i][j]  = 0.0;\n",
    "            F_table[i][j] += F_table[i][j - 1];\n",
    "            F_table[i][j] -= F_table[i - 1][j - 1];\n",
    "            F_table[i][j] /= (vec_x[i] - vec_x[i - j]);\n",
    "        \n",
    "    P_x=F_table[0][0]\n",
    "    P_s=F_table[0][0]\n",
    "    for k in range(1,n+1):\n",
    "        product=1\n",
    "        products=1\n",
    "        for it in range(0,k):\n",
    "            #compute \\binom{s}{k}*h^k\n",
    "            product*=ss-it\n",
    "            products*=s-it\n",
    "        P_x+=product*pow(h,k)*F_table[k][k]\n",
    "        P_s+=products*pow(h,k)*F_table[k][k]\n",
    "\n",
    "    return P_x, P_s, F_table;"
   ]
  },
  {
   "cell_type": "markdown",
   "metadata": {},
   "source": [
    "Newton backward-difference method:"
   ]
  },
  {
   "cell_type": "code",
   "execution_count": 12,
   "metadata": {},
   "outputs": [],
   "source": [
    "def BackwardDivDiff(xx, vec_x, vec_f, F_table = None, i0 = -1, j0 = -1):\n",
    "    n = np.size(vec_x) - 1;  # x0, x1, ..., xn.\n",
    "    h=vec_x[1]-vec_x[0]\n",
    "    ss=(xx-vec_x[n])/h\n",
    "    if (F_table == None):\n",
    "        F_table = np.zeros((n + 1, n + 1));\n",
    "\n",
    "    for i in np.arange(0, n + 1):\n",
    "        F_table[i][0] = vec_f[i];\n",
    "  \n",
    "    for j in np.arange(1, n + 1):\n",
    "        for i in np.arange(j, n + 1):\n",
    "        # compute F_{i,j}\n",
    "            F_table[i][j]  = 0.0;\n",
    "            F_table[i][j] += F_table[i][j - 1];\n",
    "            F_table[i][j] -= F_table[i - 1][j - 1];\n",
    "            F_table[i][j] /= (vec_x[i] - vec_x[i - j]);\n",
    "        \n",
    "    P_x=F_table[n][0]\n",
    "    P_s=F_table[n][0]\n",
    "    for k in range(1,n+1):\n",
    "        product=1\n",
    "        products=1\n",
    "        for it in range(0,k):\n",
    "            #compute \\binom{-s}{k}*h^k\n",
    "            product*=ss+it\n",
    "            products*=s+it\n",
    "        P_x+=product*pow(h,k)*F_table[n][k]\n",
    "        P_s+=products*pow(h,k)*F_table[n][k]\n",
    "\n",
    "    return P_x, P_s, F_table;"
   ]
  },
  {
   "cell_type": "markdown",
   "metadata": {},
   "source": [
    "Stirling's formula:"
   ]
  },
  {
   "cell_type": "code",
   "execution_count": 13,
   "metadata": {},
   "outputs": [],
   "source": [
    "def Stirling(xx, vec_x, vec_f, F_table = None, i0 = -1, j0 = -1):\n",
    "    n=np.size(vec_x)-1\n",
    "    c = int(np.size(vec_x)/2);  # x_-c, x_{-c+1}, ...,x0,..., xc.\n",
    "    h=vec_x[1]-vec_x[0]\n",
    "    ss=(xx-vec_x[c])/h\n",
    "    if (F_table == None):\n",
    "        F_table = np.zeros((n + 1, n + 1));\n",
    "\n",
    "    for i in np.arange(0, n + 1):\n",
    "        F_table[i][0] = vec_f[i];\n",
    "  \n",
    "    for j in np.arange(1, n + 1):\n",
    "        for i in np.arange(j, n + 1):\n",
    "        # compute F_{i,j}\n",
    "            F_table[i][j]  = 0.0;\n",
    "            F_table[i][j] += F_table[i][j - 1];\n",
    "            F_table[i][j] -= F_table[i - 1][j - 1];\n",
    "            F_table[i][j] /= (vec_x[i] - vec_x[i - j]);\n",
    "        \n",
    "    P_x=F_table[c][0]\n",
    "    for k in range(1,n+1):\n",
    "        productOdd=ss\n",
    "        productEven=1\n",
    "        for m in range(0,int(k/2)):\n",
    "            if(k%2==1):\n",
    "                productOdd*=pow(ss,2)-pow(m+1,2)\n",
    "            if(k%2==0):\n",
    "                productEven*=pow(ss,2)-pow(m,2) \n",
    "        if(k%2==1):\n",
    "            P_x+=productOdd*pow(h,k)*(1/2)*(F_table[c+int((k-1)/2)][k]+F_table[c+int((k-1)/2)+1][k])\n",
    "        if(k%2==0):\n",
    "            P_x+=productEven*pow(h,k)*(F_table[c+int(k/2)][k])\n",
    "\n",
    "    return P_x, F_table;"
   ]
  },
  {
   "cell_type": "markdown",
   "metadata": {},
   "source": [
    "Hermite Interpolation:"
   ]
  },
  {
   "cell_type": "code",
   "execution_count": null,
   "metadata": {},
   "outputs": [],
   "source": [
    "def Hermite(xx, vec_x, vec_f, vec_df, Q_table = None, i0 = -1, j0 = -1):\n",
    "    n=np.size(vec_x)-1\n",
    "    if (Q_table == None):\n",
    "        Q_table = np.zeros((2*n + 2, 2*n + 2));\n",
    "    z=list(range(2*n+2))\n",
    "    for i in np.arange(0, n + 1):\n",
    "        z[2*i]=vec_x[i]\n",
    "        z[2*i+1]=vec_x[i]\n",
    "        Q_table[2*i][0] = vec_f[i];\n",
    "        Q_table[2*i+1][0] = vec_f[i]\n",
    "        Q_table[2*i+1][1]=vec_df[i]\n",
    "        if i!=0:\n",
    "            Q_table[2*i][1]=(Q_table[2*i][0]-Q_table[2*i-1][0])/(z[2*i]-z[2*i-1])\n",
    "  \n",
    "    for i in np.arange(2, 2*n + 2):\n",
    "        for j in np.arange(2, i+1):\n",
    "        # compute Q_{i,j}\n",
    "            Q_table[i][j]  = 0.0;\n",
    "            Q_table[i][j] += Q_table[i][j - 1];\n",
    "            Q_table[i][j] -= Q_table[i - 1][j - 1];\n",
    "            Q_table[i][j] /= (z[i] - z[i - j]);\n",
    "        \n",
    "    H_x=Q_table[0][0]\n",
    "    for i in range(1,2*n+2):\n",
    "        productOdd=xx-vec_x[int((i-1)/2)]\n",
    "        productEven=1\n",
    "        for j in range(0,int(i/2)):\n",
    "            if(i%2==1):\n",
    "                productOdd*=pow(xx-vec_x[j],2)\n",
    "            if(i%2==0):\n",
    "                productEven*=pow(xx-vec_x[j],2)\n",
    "        if(i%2==1):\n",
    "            H_x+=Q_table[i][i]*productOdd\n",
    "        if(i%2==0):\n",
    "            H_x+=Q_table[i][i]*productEven\n",
    "\n",
    "    return H_x, Q_table; "
   ]
  },
  {
   "cell_type": "markdown",
   "metadata": {},
   "source": [
    "Natural Cubic Spline:"
   ]
  },
  {
   "cell_type": "code",
   "execution_count": null,
   "metadata": {},
   "outputs": [],
   "source": [
    "def NaturalCS(vec_x, vec_f):\n",
    "    n=np.size(vec_x)-1\n",
    "    a=[]\n",
    "    for m in vec_f:\n",
    "        a.append(m)\n",
    "    h=[]\n",
    "    for i in range(0,n):\n",
    "        h.append(vec_x[i+1]-vec_x[i])\n",
    "    alpha=[0]*n\n",
    "    for i in range(1,n):\n",
    "        alpha[i]+=(3/h[i])*(a[i+1]-a[i])-(3/h[i-1])*(a[i]-a[i-1])\n",
    "    l=[1]\n",
    "    u=[0]\n",
    "    z=[0]\n",
    "    for i in range(1,n):\n",
    "        l.append(2*(vec_x[i+1]-vec_x[i-1])-h[i-1]*u[i-1])\n",
    "        u.append(h[i]/l[i])\n",
    "        z.append((alpha[i]-h[i-1]*z[i-1])/l[i])\n",
    "    l.append(1)\n",
    "    z.append(0)\n",
    "    c=[0]*(n+1)\n",
    "    b=[0]*n\n",
    "    d=[0]*n\n",
    "    j=n-1\n",
    "    while j>=0:\n",
    "        c[j]=z[j]-u[j]*c[j+1]\n",
    "        b[j]=(a[j+1]-a[j])/h[j]-h[j]*(c[j+1]+2*c[j])/3\n",
    "        d[j]=(c[j+1]-c[j])/(3*h[j])\n",
    "        j-=1\n",
    "    return a,b,c,d\n",
    "# S_j(x)=a[j]+b[j]*(x-vec_x[j])+c[j]*pow(x-vec_x[j],2)+d[j]*pow(x-vec_x[j],3)"
   ]
  },
  {
   "cell_type": "markdown",
   "metadata": {},
   "source": [
    "Bezier Curve:"
   ]
  },
  {
   "cell_type": "code",
   "execution_count": 14,
   "metadata": {},
   "outputs": [],
   "source": [
    "def Bezier(endpts,guidepts):\n",
    "    n=len(endpts)-1  #P_0, ..., P_n\n",
    "    a0=[]\n",
    "    b0=[]\n",
    "    a1=[]\n",
    "    b1=[]\n",
    "    a2=[]\n",
    "    b2=[]\n",
    "    a3=[]\n",
    "    b3=[]\n",
    "    for i in range(0,n):\n",
    "        a0.append(endpts[i][0])  #x_i\n",
    "        b0.append(endpts[i][1])  #y_i\n",
    "        a1.append(3*(guidepts[2*i][0]-endpts[i][0]))\n",
    "        b1.append(3*(guidepts[2*i][1]-endpts[i][1]))\n",
    "        a2.append(3*(endpts[i][0]+guidepts[2*i+1][0]-2*guidepts[2*i][0]))\n",
    "        b2.append(3*(endpts[i][1]+guidepts[2*i+1][1]-2*guidepts[2*i][1]))\n",
    "        a3.append(endpts[i+1][0]-endpts[i][0]+3*guidepts[2*i][0]-3*guidepts[2*i+1][0])\n",
    "        b3.append(endpts[i+1][1]-endpts[i][1]+3*guidepts[2*i][1]-3*guidepts[2*i+1][1])\n",
    "    C=[]\n",
    "    for i in range(0,n):\n",
    "        xt=a0[i]+a1[i]*t+a2[i]*pow(t,2)+a3[i]*pow(t,3)\n",
    "        yt=b0[i]+b1[i]*t+b2[i]*pow(t,2)+b3[i]*pow(t,3)\n",
    "        C.append((xt,yt))\n",
    "    return C  "
   ]
  },
  {
   "cell_type": "markdown",
   "metadata": {},
   "source": [
    "Forward-difference formula:"
   ]
  },
  {
   "cell_type": "code",
   "execution_count": null,
   "metadata": {},
   "outputs": [],
   "source": [
    "def forwardDF(vec_x,f):\n",
    "    f=lambdify(x,f)\n",
    "    h=vec_x[1]-vec_x[0]\n",
    "    vec_df=[]\n",
    "    n=np.size(vec_x)-1\n",
    "    for i in range(0,n):\n",
    "        print(((f(vec_x[i+1])-f(vec_x[i]))/h))\n",
    "        vec_df.append((f(vec_x[i+1])-f(vec_x[i]))/h)\n",
    "    return vec_df"
   ]
  },
  {
   "cell_type": "markdown",
   "metadata": {},
   "source": [
    "Backward-difference formula:"
   ]
  },
  {
   "cell_type": "code",
   "execution_count": null,
   "metadata": {},
   "outputs": [],
   "source": [
    "def backwardDF(vec_x,f):\n",
    "    f=lambdify(x,f)\n",
    "    h=vec_x[0]-vec_x[1]\n",
    "    vec_df=[]\n",
    "    n=np.size(vec_x)-1\n",
    "    for i in range(1,n+1):\n",
    "        vec_df.append((f(vec_x[i-1])-f(vec_x[i]))/h)\n",
    "    return vec_df"
   ]
  },
  {
   "cell_type": "markdown",
   "metadata": {},
   "source": [
    "Three-point endpoint formula:"
   ]
  },
  {
   "cell_type": "code",
   "execution_count": null,
   "metadata": {},
   "outputs": [],
   "source": [
    "def find(x0,vec_x):\n",
    "    l=np.size(vec_x)\n",
    "    for i in range(0,l):\n",
    "        if x0== vec_x[i]:\n",
    "            return i\n",
    "    return -1 # cannot find\n",
    "\n",
    "def threePtEnd(x0,vec_x,vec_f):\n",
    "    h=vec_x[1]-vec_x[0]\n",
    "    i=find(x0,vec_x)\n",
    "    l=np.size(vec_x)\n",
    "    if i==l-1:\n",
    "        dfx0=(vec_f[i-2]-4*vec_f[i-1]+3*vec_f[i])/(2*h)\n",
    "    else:\n",
    "        dfx0=(-3*vec_f[i]+4*vec_f[i+1]-vec_f[i+2])/(2*h)\n",
    "    return dfx0"
   ]
  },
  {
   "cell_type": "markdown",
   "metadata": {},
   "source": [
    "Three-point midpoint formula:"
   ]
  },
  {
   "cell_type": "code",
   "execution_count": null,
   "metadata": {},
   "outputs": [],
   "source": [
    "def threePtMid(x0,vec_x,vec_f):\n",
    "    h=vec_x[1]-vec_x[0]\n",
    "    i=find(x0,vec_x)\n",
    "    dfx0=(vec_f[i+1]-vec_f[i-1])/(2*h)\n",
    "    return dfx0"
   ]
  },
  {
   "cell_type": "markdown",
   "metadata": {},
   "source": [
    "Trapezoidal rule:"
   ]
  },
  {
   "cell_type": "code",
   "execution_count": null,
   "metadata": {},
   "outputs": [],
   "source": [
    "def trapezoidal(x0,x1,f): \n",
    "    f=lambdify(x,f)\n",
    "    h=x1-x0\n",
    "    intf=(f(x0)+f(x1))*h/2\n",
    "    return intf"
   ]
  },
  {
   "cell_type": "markdown",
   "metadata": {},
   "source": [
    "Simpson's rule:"
   ]
  },
  {
   "cell_type": "code",
   "execution_count": 16,
   "metadata": {},
   "outputs": [],
   "source": [
    "def simpson(x0,x2,f): \n",
    "    f=lambdify(x,f)\n",
    "    x1=(x2+x0)/2\n",
    "    h=x1-x0\n",
    "    intf=(f(x0)+4*f(x1)+f(x2))*h/3\n",
    "    return intf"
   ]
  },
  {
   "cell_type": "markdown",
   "metadata": {},
   "source": [
    "Euler's method:"
   ]
  },
  {
   "cell_type": "code",
   "execution_count": null,
   "metadata": {},
   "outputs": [],
   "source": [
    "def Euler(f,a,b,alpha,h):\n",
    "    '''\n",
    "    f: function:\n",
    "    a,b: endpoints\n",
    "    alpha: initial condition\n",
    "    h: step size'''\n",
    "    f=lambdify((t,y),f)\n",
    "    tt=a\n",
    "    ww=alpha\n",
    "    N=int((b-a)/h)\n",
    "    ti=[]\n",
    "    wi=[]\n",
    "    for i in range(1,N+1):\n",
    "        ww=ww+h*f(tt,ww)\n",
    "        tt=a+i*h\n",
    "        ti.append(tt)\n",
    "        wi.append(ww)\n",
    "    return ti,wi"
   ]
  },
  {
   "cell_type": "code",
   "execution_count": null,
   "metadata": {},
   "outputs": [],
   "source": []
  }
 ],
 "metadata": {
  "kernelspec": {
   "display_name": "Python 3",
   "language": "python",
   "name": "python3"
  },
  "language_info": {
   "codemirror_mode": {
    "name": "ipython",
    "version": 3
   },
   "file_extension": ".py",
   "mimetype": "text/x-python",
   "name": "python",
   "nbconvert_exporter": "python",
   "pygments_lexer": "ipython3",
   "version": "3.7.4"
  }
 },
 "nbformat": 4,
 "nbformat_minor": 2
}
