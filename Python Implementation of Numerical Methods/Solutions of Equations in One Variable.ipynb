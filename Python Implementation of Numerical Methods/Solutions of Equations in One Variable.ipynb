{
 "cells": [
  {
   "cell_type": "code",
   "execution_count": 10,
   "metadata": {},
   "outputs": [],
   "source": [
    "import math\n",
    "from sympy import *\n",
    "import numpy as np"
   ]
  },
  {
   "cell_type": "markdown",
   "metadata": {},
   "source": [
    "$d$-digit chopping:"
   ]
  },
  {
   "cell_type": "code",
   "execution_count": 3,
   "metadata": {},
   "outputs": [],
   "source": [
    "def truncate(x, d):\n",
    "    '''\n",
    "    x: number to be truncated\n",
    "    d: desired digits\n",
    "    '''\n",
    "    xx = str(x)\n",
    "    m = '{:.'+str(d+1)+'e}'\n",
    "    y = m.format(x)\n",
    "    yy=float(y[0:d+1])\n",
    "    zz=int(x/yy)\n",
    "    z0=round(yy/x)\n",
    "    if x<1 and -1<x:\n",
    "        return float(yy/z0)\n",
    "    else:\n",
    "        return float(yy*zz)"
   ]
  },
  {
   "cell_type": "markdown",
   "metadata": {},
   "source": [
    "Bisection method:"
   ]
  },
  {
   "cell_type": "code",
   "execution_count": 4,
   "metadata": {},
   "outputs": [],
   "source": [
    "def Bisection(start, end, x, f):\n",
    "    '''\n",
    "    start: starting point of the intervel\n",
    "    end: end point of the intervel\n",
    "    x: the notation of the variable\n",
    "    f: sympy expression of the function f(x)\n",
    "    '''\n",
    "    f=lambdify(x,f)\n",
    "    a=start\n",
    "    b=end\n",
    "    for i in list(range(0,3)):\n",
    "        p=Fraction((a+b)/2)\n",
    "        fa= f(a)\n",
    "        fb= f(b)\n",
    "        fp= f(p)\n",
    "        if fp==0:\n",
    "            return p\n",
    "        elif (fp * fa)>0:\n",
    "            a=p\n",
    "        elif (fp * fa)<0:\n",
    "            b=p\n",
    "    return p"
   ]
  },
  {
   "cell_type": "markdown",
   "metadata": {},
   "source": [
    "Fixed-point iteration method:"
   ]
  },
  {
   "cell_type": "code",
   "execution_count": 6,
   "metadata": {},
   "outputs": [],
   "source": [
    "def FixedPt(p0,tol,g):\n",
    "    '''\n",
    "    p0: initial guess of the solution p such that g(p)=p \n",
    "    tol: tolerance\n",
    "    g: Python function g(x)\n",
    "    '''\n",
    "    p=g(p0)\n",
    "    while(abs(p-p0)>=tol):\n",
    "        p0=p\n",
    "        p=g(p)\n",
    "    return p"
   ]
  },
  {
   "cell_type": "markdown",
   "metadata": {},
   "source": [
    "Method of False Position:"
   ]
  },
  {
   "cell_type": "code",
   "execution_count": 7,
   "metadata": {},
   "outputs": [],
   "source": [
    "def FalsePosition(p0, p1,tol, N, f):\n",
    "    '''\n",
    "    p0, p1: initial end-points\n",
    "    tol: tolerance\n",
    "    N: maximum iteration\n",
    "    f: Python function f(x)\n",
    "    '''\n",
    "    q0=f(p0)\n",
    "    q1=f(p1)\n",
    "    if q0*q1>=0:\n",
    "        print(\"Method of False Position fails because of wrong assumption for p0 and p1.\")\n",
    "        return -1\n",
    "    for i in range(N):\n",
    "        p=p1-q1*(p1-p0)/(q1-q0)\n",
    "        q=f(p)\n",
    "        if abs(q)<=tol:\n",
    "            break\n",
    "        elif q*q1<0:\n",
    "            p0=p\n",
    "            q0=q\n",
    "        else:\n",
    "            p1=p\n",
    "            q1=q\n",
    "    return p"
   ]
  },
  {
   "cell_type": "markdown",
   "metadata": {},
   "source": [
    "Newton's method:"
   ]
  },
  {
   "cell_type": "code",
   "execution_count": 8,
   "metadata": {},
   "outputs": [],
   "source": [
    "def Newton(p0, pN, tol, x, f):\n",
    "    '''\n",
    "    p0: initial approximation of the solution p such that f(p)=0\n",
    "    pN: maximal possible solution\n",
    "    tol: tolerance \n",
    "    x: the notation of the variable\n",
    "    f: sympy expression of the function f(x)\n",
    "    '''\n",
    "    df=f.diff(x)\n",
    "    f = lambdify(x, f)\n",
    "    df = lambdify(x, df)\n",
    "    p=p0-f(p0)/df(p0)\n",
    "    i=1\n",
    "    while abs(p-p0)>=tol:\n",
    "        if(p>pN):\n",
    "            print(\"Solution exceeds the limit.\")\n",
    "            return pN\n",
    "        p0=p\n",
    "        p=p-f(p)/df(p)\n",
    "        i+=1\n",
    "    return p"
   ]
  }
 ],
 "metadata": {
  "kernelspec": {
   "display_name": "Python 3",
   "language": "python",
   "name": "python3"
  },
  "language_info": {
   "codemirror_mode": {
    "name": "ipython",
    "version": 3
   },
   "file_extension": ".py",
   "mimetype": "text/x-python",
   "name": "python",
   "nbconvert_exporter": "python",
   "pygments_lexer": "ipython3",
   "version": "3.7.4"
  }
 },
 "nbformat": 4,
 "nbformat_minor": 2
}
